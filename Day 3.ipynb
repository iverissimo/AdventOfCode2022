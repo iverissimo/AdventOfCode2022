{
 "cells": [
  {
   "cell_type": "code",
   "execution_count": 2,
   "id": "4b8bab34",
   "metadata": {},
   "outputs": [],
   "source": [
    "import numpy as np\n",
    "import os\n",
    "import os.path as op\n",
    "import pandas as pd\n",
    "\n",
    "import string"
   ]
  },
  {
   "cell_type": "code",
   "execution_count": 3,
   "id": "fa14f7f1",
   "metadata": {},
   "outputs": [],
   "source": [
    "## PART 1\n",
    "\n",
    "input_filename = op.join(os.getcwd(), 'inputs', 'input_003.txt')\n",
    "\n",
    "# first load file as is\n",
    "raw_df = pd.read_csv(input_filename, sep='\\t', header = None)\n",
    "\n",
    "# now reshape into input df, separating by rugsacks compartments\n",
    "tmp_list = [pd.DataFrame({'compartment_1': [raw_df.iloc[ind].values[0][:int(len(raw_df.iloc[ind].values[0])/2)]], \n",
    "                          'compartment_2': [raw_df.iloc[ind].values[0][-int(len(raw_df.iloc[ind].values[0])/2):]]},\n",
    "                        index = [ind]) for ind in range(len(raw_df))]\n",
    "input_df = pd.concat(tmp_list)\n",
    "# add column with common character\n",
    "tmp_list = [char for ind in range(len(raw_df)) for char in np.unique(list(input_df.compartment_1[ind])) if char in list(input_df.compartment_2[ind])]\n",
    "input_df['common_item'] = tmp_list"
   ]
  },
  {
   "cell_type": "code",
   "execution_count": 4,
   "id": "780025e4",
   "metadata": {},
   "outputs": [
    {
     "data": {
      "text/html": [
       "<div>\n",
       "<style scoped>\n",
       "    .dataframe tbody tr th:only-of-type {\n",
       "        vertical-align: middle;\n",
       "    }\n",
       "\n",
       "    .dataframe tbody tr th {\n",
       "        vertical-align: top;\n",
       "    }\n",
       "\n",
       "    .dataframe thead th {\n",
       "        text-align: right;\n",
       "    }\n",
       "</style>\n",
       "<table border=\"1\" class=\"dataframe\">\n",
       "  <thead>\n",
       "    <tr style=\"text-align: right;\">\n",
       "      <th></th>\n",
       "      <th>compartment_1</th>\n",
       "      <th>compartment_2</th>\n",
       "      <th>common_item</th>\n",
       "    </tr>\n",
       "  </thead>\n",
       "  <tbody>\n",
       "    <tr>\n",
       "      <th>0</th>\n",
       "      <td>vGFhvGvvSdfwqhqvm</td>\n",
       "      <td>CPnlFPnCNPcCFcWcr</td>\n",
       "      <td>F</td>\n",
       "    </tr>\n",
       "    <tr>\n",
       "      <th>1</th>\n",
       "      <td>ZbWZDMgsTHs</td>\n",
       "      <td>rNNLJcJnsJl</td>\n",
       "      <td>s</td>\n",
       "    </tr>\n",
       "    <tr>\n",
       "      <th>2</th>\n",
       "      <td>HbBWQgZVZZBzbgZ</td>\n",
       "      <td>phwjqpmmVfdGmjG</td>\n",
       "      <td>V</td>\n",
       "    </tr>\n",
       "    <tr>\n",
       "      <th>3</th>\n",
       "      <td>vvCJLGnthChvtrvCCn</td>\n",
       "      <td>RbTRqRPRBtbTRfPRRl</td>\n",
       "      <td>t</td>\n",
       "    </tr>\n",
       "    <tr>\n",
       "      <th>4</th>\n",
       "      <td>djZSgHNNwj</td>\n",
       "      <td>qcdWlbcbfc</td>\n",
       "      <td>d</td>\n",
       "    </tr>\n",
       "    <tr>\n",
       "      <th>...</th>\n",
       "      <td>...</td>\n",
       "      <td>...</td>\n",
       "      <td>...</td>\n",
       "    </tr>\n",
       "    <tr>\n",
       "      <th>295</th>\n",
       "      <td>nvBvHpBppnvPPnJTB</td>\n",
       "      <td>WLJVMwVfWJfCbfWgW</td>\n",
       "      <td>J</td>\n",
       "    </tr>\n",
       "    <tr>\n",
       "      <th>296</th>\n",
       "      <td>hsHHpBsvRTHpsPszTBTTsRTs</td>\n",
       "      <td>lGqGqlcqlScnqmhZmmZSZSjl</td>\n",
       "      <td>h</td>\n",
       "    </tr>\n",
       "    <tr>\n",
       "      <th>297</th>\n",
       "      <td>DddBHCmfWCBTDBHTH</td>\n",
       "      <td>fMpzhzpJJMJsFrGrz</td>\n",
       "      <td>f</td>\n",
       "    </tr>\n",
       "    <tr>\n",
       "      <th>298</th>\n",
       "      <td>tPVPmbnttjPnZvSvSbnmZPZP</td>\n",
       "      <td>NpNGMpJNzzNrGJpvhsshMpFs</td>\n",
       "      <td>v</td>\n",
       "    </tr>\n",
       "    <tr>\n",
       "      <th>299</th>\n",
       "      <td>mwnZcbmmStbVtVjbZV</td>\n",
       "      <td>lcLTBlcLCRHRDWCWWW</td>\n",
       "      <td>c</td>\n",
       "    </tr>\n",
       "  </tbody>\n",
       "</table>\n",
       "<p>300 rows × 3 columns</p>\n",
       "</div>"
      ],
      "text/plain": [
       "                compartment_1             compartment_2 common_item\n",
       "0           vGFhvGvvSdfwqhqvm         CPnlFPnCNPcCFcWcr           F\n",
       "1                 ZbWZDMgsTHs               rNNLJcJnsJl           s\n",
       "2             HbBWQgZVZZBzbgZ           phwjqpmmVfdGmjG           V\n",
       "3          vvCJLGnthChvtrvCCn        RbTRqRPRBtbTRfPRRl           t\n",
       "4                  djZSgHNNwj                qcdWlbcbfc           d\n",
       "..                        ...                       ...         ...\n",
       "295         nvBvHpBppnvPPnJTB         WLJVMwVfWJfCbfWgW           J\n",
       "296  hsHHpBsvRTHpsPszTBTTsRTs  lGqGqlcqlScnqmhZmmZSZSjl           h\n",
       "297         DddBHCmfWCBTDBHTH         fMpzhzpJJMJsFrGrz           f\n",
       "298  tPVPmbnttjPnZvSvSbnmZPZP  NpNGMpJNzzNrGJpvhsshMpFs           v\n",
       "299        mwnZcbmmStbVtVjbZV        lcLTBlcLCRHRDWCWWW           c\n",
       "\n",
       "[300 rows x 3 columns]"
      ]
     },
     "execution_count": 4,
     "metadata": {},
     "output_type": "execute_result"
    }
   ],
   "source": [
    "input_df"
   ]
  },
  {
   "cell_type": "code",
   "execution_count": 5,
   "id": "fe302e4e",
   "metadata": {},
   "outputs": [],
   "source": [
    "## priotitization system\n",
    "all_characters = np.hstack((list(string.ascii_lowercase),list(string.ascii_uppercase)))\n",
    "\n",
    "priori_points = {key: value+1 for value, key in enumerate(all_characters)}"
   ]
  },
  {
   "cell_type": "code",
   "execution_count": 6,
   "id": "fce0687b",
   "metadata": {},
   "outputs": [
    {
     "data": {
      "text/plain": [
       "7785"
      ]
     },
     "execution_count": 6,
     "metadata": {},
     "output_type": "execute_result"
    }
   ],
   "source": [
    "## now count points\n",
    "total_points = np.sum([priori_points[key] for key in input_df.common_item.values])\n",
    "total_points"
   ]
  },
  {
   "cell_type": "code",
   "execution_count": 7,
   "id": "651638c0",
   "metadata": {},
   "outputs": [],
   "source": [
    "## PART 2\n",
    "\n",
    "# separate in groups and keep whole rugsack\n",
    "tmp_list = [pd.DataFrame({'group': np.repeat(ind,3), \n",
    "                          'rugsack': frame.values[:,0]},\n",
    "                        index = None) for ind, frame in enumerate(np.array_split(raw_df, len(raw_df)/3))]\n",
    "input2_df = pd.concat(tmp_list)\n",
    "\n",
    "# find character that is common to all 3\n",
    "common_character = [char for ind in np.unique(input2_df.group) for char in np.unique(list(input2_df[input2_df.group == ind].rugsack.values[0])) if char in list(input2_df[input2_df.group == ind].rugsack.values[1]) and \\\n",
    "                    char in list(input2_df[input2_df.group == ind].rugsack.values[-1])]\n"
   ]
  },
  {
   "cell_type": "code",
   "execution_count": 8,
   "id": "40a0cb81",
   "metadata": {},
   "outputs": [
    {
     "data": {
      "text/plain": [
       "2633"
      ]
     },
     "execution_count": 8,
     "metadata": {},
     "output_type": "execute_result"
    }
   ],
   "source": [
    "## now count points\n",
    "total_points_2 = np.sum([priori_points[key] for key in common_character])\n",
    "total_points_2"
   ]
  }
 ],
 "metadata": {
  "kernelspec": {
   "display_name": "Python 3 (ipykernel)",
   "language": "python",
   "name": "python3"
  },
  "language_info": {
   "codemirror_mode": {
    "name": "ipython",
    "version": 3
   },
   "file_extension": ".py",
   "mimetype": "text/x-python",
   "name": "python",
   "nbconvert_exporter": "python",
   "pygments_lexer": "ipython3",
   "version": "3.9.12"
  }
 },
 "nbformat": 4,
 "nbformat_minor": 5
}
