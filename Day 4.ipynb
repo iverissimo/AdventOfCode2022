{
 "cells": [
  {
   "cell_type": "code",
   "execution_count": 1,
   "id": "8dd65321",
   "metadata": {},
   "outputs": [],
   "source": [
    "import numpy as np\n",
    "import os\n",
    "import os.path as op\n",
    "import pandas as pd\n",
    "\n",
    "import re"
   ]
  },
  {
   "cell_type": "code",
   "execution_count": 2,
   "id": "51d0d063",
   "metadata": {},
   "outputs": [],
   "source": [
    "## PART 1\n",
    "\n",
    "input_filename = op.join(os.getcwd(), 'inputs', 'input_004.txt')"
   ]
  },
  {
   "cell_type": "code",
   "execution_count": 3,
   "id": "2414f8fe",
   "metadata": {},
   "outputs": [],
   "source": [
    "# first load file as is\n",
    "raw_df = pd.read_csv(input_filename, sep='\\t', header = None)\n",
    "\n",
    "# put into elf array\n",
    "elfA_range = np.vstack([np.array(re.split('-', \n",
    "                                          re.split(',', \n",
    "                                                raw_df.iloc[ind].values[0])[0])).astype(int) for ind in range(len(raw_df))]) \n",
    "\n",
    "# put into elf array\n",
    "elfB_range = np.vstack([np.array(re.split('-', \n",
    "                                          re.split(',', \n",
    "                                                raw_df.iloc[ind].values[0])[-1])).astype(int) for ind in range(len(raw_df))]) \n",
    "\n"
   ]
  },
  {
   "cell_type": "code",
   "execution_count": 4,
   "id": "7e174c41",
   "metadata": {},
   "outputs": [
    {
     "data": {
      "text/plain": [
       "(1000, 2)"
      ]
     },
     "execution_count": 4,
     "metadata": {},
     "output_type": "execute_result"
    }
   ],
   "source": [
    "elfA_range.shape"
   ]
  },
  {
   "cell_type": "code",
   "execution_count": 5,
   "id": "5af32015",
   "metadata": {},
   "outputs": [],
   "source": [
    "## loop over and compare\n",
    "pair_count = 0\n",
    "\n",
    "for ind, A_vals in enumerate(elfA_range):\n",
    "    \n",
    "    if (elfB_range[ind][0] >= A_vals[0] and elfB_range[ind][-1] <= A_vals[-1]) or \\\n",
    "    (A_vals[0] >= elfB_range[ind][0] and A_vals[-1] <= elfB_range[ind][-1]):\n",
    "        \n",
    "        pair_count += 1"
   ]
  },
  {
   "cell_type": "code",
   "execution_count": 6,
   "id": "34995fdd",
   "metadata": {},
   "outputs": [
    {
     "data": {
      "text/plain": [
       "511"
      ]
     },
     "execution_count": 6,
     "metadata": {},
     "output_type": "execute_result"
    }
   ],
   "source": [
    "pair_count"
   ]
  },
  {
   "cell_type": "code",
   "execution_count": 7,
   "id": "60c03a2b",
   "metadata": {},
   "outputs": [],
   "source": [
    "## PART 2\n",
    "\n",
    "pair_count2 = 0\n",
    "\n",
    "# find any overlap\n",
    "for ind, A_vals in enumerate(elfA_range):\n",
    "    \n",
    "    if (elfB_range[ind][0] >= A_vals[0] and elfB_range[ind][0] <= A_vals[-1]) or \\\n",
    "    (elfB_range[ind][-1] >= A_vals[0] and elfB_range[ind][-1] <= A_vals[-1]) or \\\n",
    "    (A_vals[0] >= elfB_range[ind][0] and A_vals[0] <= elfB_range[ind][-1]) or \\\n",
    "    (A_vals[-1] >= elfB_range[ind][0] and A_vals[-1] <= elfB_range[ind][-1]):\n",
    "        \n",
    "        pair_count2 += 1"
   ]
  },
  {
   "cell_type": "code",
   "execution_count": 8,
   "id": "73646ebd",
   "metadata": {},
   "outputs": [
    {
     "data": {
      "text/plain": [
       "821"
      ]
     },
     "execution_count": 8,
     "metadata": {},
     "output_type": "execute_result"
    }
   ],
   "source": [
    "pair_count2"
   ]
  },
  {
   "cell_type": "code",
   "execution_count": null,
   "id": "fc9f02d3",
   "metadata": {},
   "outputs": [],
   "source": []
  },
  {
   "cell_type": "code",
   "execution_count": null,
   "id": "5aa408a0",
   "metadata": {},
   "outputs": [],
   "source": []
  }
 ],
 "metadata": {
  "kernelspec": {
   "display_name": "Python 3 (ipykernel)",
   "language": "python",
   "name": "python3"
  },
  "language_info": {
   "codemirror_mode": {
    "name": "ipython",
    "version": 3
   },
   "file_extension": ".py",
   "mimetype": "text/x-python",
   "name": "python",
   "nbconvert_exporter": "python",
   "pygments_lexer": "ipython3",
   "version": "3.9.12"
  }
 },
 "nbformat": 4,
 "nbformat_minor": 5
}
