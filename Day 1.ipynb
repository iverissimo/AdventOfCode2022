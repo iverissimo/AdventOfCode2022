{
 "cells": [
  {
   "cell_type": "code",
   "execution_count": 1,
   "id": "0fe9498d",
   "metadata": {},
   "outputs": [],
   "source": [
    "import numpy as np\n",
    "import os\n",
    "import os.path as op\n",
    "import pandas as pd"
   ]
  },
  {
   "cell_type": "code",
   "execution_count": 2,
   "id": "23c5c741",
   "metadata": {},
   "outputs": [],
   "source": [
    "## PART 1\n",
    "\n",
    "# get filename\n",
    "input_filename = op.join(os.getcwd(), 'inputs','input_001.txt')\n",
    "\n",
    "# open\n",
    "input_file = open(input_filename)\n",
    "\n",
    "# save list of lists\n",
    "sum_cal_list = []\n",
    "elfcal_list = []\n",
    "\n",
    "for line in input_file:\n",
    "    \n",
    "    # get number of calories in file line as string\n",
    "    linecal_str = line.strip()\n",
    "    \n",
    "    # if string is not empty, append on elf list\n",
    "    if len(linecal_str) > 0:\n",
    "        elfcal_list.append(int(linecal_str))\n",
    "    # when list is empty we will start counting for a new elf\n",
    "    else:\n",
    "        sum_cal_list.append(sum(elfcal_list))\n",
    "        elfcal_list = [] # restart list\n",
    "    \n",
    "input_file.close()"
   ]
  },
  {
   "cell_type": "code",
   "execution_count": 3,
   "id": "77b31b5e",
   "metadata": {},
   "outputs": [
    {
     "data": {
      "text/plain": [
       "68802"
      ]
     },
     "execution_count": 3,
     "metadata": {},
     "output_type": "execute_result"
    }
   ],
   "source": [
    "## max number of calories\n",
    "np.max(sum_cal_list)"
   ]
  },
  {
   "cell_type": "code",
   "execution_count": 4,
   "id": "e17dac48",
   "metadata": {},
   "outputs": [
    {
     "data": {
      "text/plain": [
       "205370"
      ]
     },
     "execution_count": 4,
     "metadata": {},
     "output_type": "execute_result"
    }
   ],
   "source": [
    "## PART 2\n",
    "# find top 3 calories and sum\n",
    "\n",
    "np.sum(np.sort(sum_cal_list)[-3:])"
   ]
  },
  {
   "cell_type": "code",
   "execution_count": null,
   "id": "62803a5e",
   "metadata": {},
   "outputs": [],
   "source": []
  },
  {
   "cell_type": "code",
   "execution_count": null,
   "id": "d2370aec",
   "metadata": {},
   "outputs": [],
   "source": []
  }
 ],
 "metadata": {
  "kernelspec": {
   "display_name": "Python 3 (ipykernel)",
   "language": "python",
   "name": "python3"
  },
  "language_info": {
   "codemirror_mode": {
    "name": "ipython",
    "version": 3
   },
   "file_extension": ".py",
   "mimetype": "text/x-python",
   "name": "python",
   "nbconvert_exporter": "python",
   "pygments_lexer": "ipython3",
   "version": "3.9.12"
  }
 },
 "nbformat": 4,
 "nbformat_minor": 5
}
