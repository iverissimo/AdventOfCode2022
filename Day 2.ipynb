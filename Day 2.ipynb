{
 "cells": [
  {
   "cell_type": "code",
   "execution_count": 1,
   "id": "1036253c",
   "metadata": {},
   "outputs": [],
   "source": [
    "import numpy as np\n",
    "import os \n",
    "import os.path as op\n",
    "import pandas as pd"
   ]
  },
  {
   "cell_type": "code",
   "execution_count": 2,
   "id": "5aeeaa20",
   "metadata": {},
   "outputs": [],
   "source": [
    "## PART 1\n",
    "\n",
    "input_filename = op.join(os.getcwd(), 'inputs', 'input_002.txt')\n",
    "\n",
    "input_df = pd.read_csv(input_filename, sep=\" \", header = None)\n",
    "input_df.columns = ['opponent', 'me']"
   ]
  },
  {
   "cell_type": "code",
   "execution_count": 3,
   "id": "c5f01489",
   "metadata": {},
   "outputs": [],
   "source": [
    "## score for each type\n",
    "shape_points = {'X': 1, 'Y': 2, 'Z': 3}\n",
    "score_points = {'win': 6, 'tie': 3, 'lose': 0}\n",
    "\n",
    "## win-loss score\n",
    "score_type = {'win': [['A', 'Y'], ['B', 'Z'], ['C', 'X']],\n",
    "             'tie': [['A', 'X'], ['B', 'Y'], ['C', 'Z']],\n",
    "             'lose': [['A', 'Z'], ['B', 'X'], ['C', 'Y']]}\n"
   ]
  },
  {
   "cell_type": "code",
   "execution_count": 4,
   "id": "2d91f93f",
   "metadata": {},
   "outputs": [],
   "source": [
    "## count points\n",
    "total_score = 0\n",
    "\n",
    "# first for my own shape points\n",
    "for key in shape_points.keys():\n",
    "    total_score += len(input_df[input_df['me'] == key])*shape_points[key]\n",
    "    \n",
    "## for for the winning or ties\n",
    "for key in ['win', 'tie']:\n",
    "    \n",
    "    for fight_list in score_type[key]:\n",
    "        \n",
    "        total_score += len(input_df[(input_df['opponent'] == fight_list[0]) & (input_df['me'] == fight_list[-1])]) * score_points[key] \n",
    "    "
   ]
  },
  {
   "cell_type": "code",
   "execution_count": 5,
   "id": "a31f39fc",
   "metadata": {},
   "outputs": [
    {
     "data": {
      "text/plain": [
       "11386"
      ]
     },
     "execution_count": 5,
     "metadata": {},
     "output_type": "execute_result"
    }
   ],
   "source": [
    "total_score"
   ]
  },
  {
   "cell_type": "code",
   "execution_count": 6,
   "id": "d3d4e525",
   "metadata": {},
   "outputs": [],
   "source": [
    "## PART 2\n",
    "\n",
    "## new score system\n",
    "score_type_pt2 = {'win': [['A', 'B'], ['B', 'C'], ['C', 'A']],\n",
    "                 'tie': [['A', 'A'], ['B', 'B'], ['C', 'C']],\n",
    "                 'lose': [['A', 'C'], ['B', 'A'], ['C', 'B']]}\n",
    "\n",
    "shape_points_pt2 = {'A': 1, 'B': 2, 'C': 3}"
   ]
  },
  {
   "cell_type": "code",
   "execution_count": 7,
   "id": "e3bae84e",
   "metadata": {},
   "outputs": [],
   "source": [
    "## count points for part2\n",
    "\n",
    "total_score_2 = 0\n",
    "\n",
    "for key in shape_points.keys():\n",
    "    \n",
    "    shape_df = input_df[input_df['me'] == key]\n",
    "    \n",
    "    if key == 'X': # then we need to lose\n",
    "        \n",
    "        for fight_list in score_type_pt2['lose']:\n",
    "            \n",
    "            total_score_2 += len(shape_df[(shape_df['opponent'] == fight_list[0])]) * shape_points_pt2[fight_list[-1]]\n",
    "            \n",
    "    elif key == 'Y': # then we need to tie\n",
    "        for fight_list in score_type_pt2['tie']:\n",
    "            \n",
    "            total_score_2 += len(shape_df[(shape_df['opponent'] == fight_list[0])]) * (shape_points_pt2[fight_list[-1]] + score_points['tie']) \n",
    "            \n",
    "    elif key == 'Z': # then we need to win\n",
    "        for fight_list in score_type_pt2['win']:\n",
    "            \n",
    "            total_score_2 += len(shape_df[(shape_df['opponent'] == fight_list[0])]) * (shape_points_pt2[fight_list[-1]] + score_points['win'])\n",
    "        \n"
   ]
  },
  {
   "cell_type": "code",
   "execution_count": 8,
   "id": "97b22c8c",
   "metadata": {},
   "outputs": [
    {
     "data": {
      "text/plain": [
       "13600"
      ]
     },
     "execution_count": 8,
     "metadata": {},
     "output_type": "execute_result"
    }
   ],
   "source": [
    "total_score_2"
   ]
  },
  {
   "cell_type": "code",
   "execution_count": null,
   "id": "0352b5b8",
   "metadata": {},
   "outputs": [],
   "source": []
  },
  {
   "cell_type": "code",
   "execution_count": null,
   "id": "017bf96d",
   "metadata": {},
   "outputs": [],
   "source": []
  },
  {
   "cell_type": "code",
   "execution_count": null,
   "id": "c72d9847",
   "metadata": {},
   "outputs": [],
   "source": []
  },
  {
   "cell_type": "code",
   "execution_count": null,
   "id": "fac1fbb8",
   "metadata": {},
   "outputs": [],
   "source": []
  },
  {
   "cell_type": "code",
   "execution_count": null,
   "id": "02b5b59e",
   "metadata": {},
   "outputs": [],
   "source": []
  },
  {
   "cell_type": "code",
   "execution_count": null,
   "id": "ad91c7e3",
   "metadata": {},
   "outputs": [],
   "source": []
  },
  {
   "cell_type": "code",
   "execution_count": null,
   "id": "7bdde915",
   "metadata": {},
   "outputs": [],
   "source": []
  },
  {
   "cell_type": "code",
   "execution_count": null,
   "id": "86b0807b",
   "metadata": {},
   "outputs": [],
   "source": []
  },
  {
   "cell_type": "code",
   "execution_count": null,
   "id": "a5905d02",
   "metadata": {},
   "outputs": [],
   "source": []
  },
  {
   "cell_type": "code",
   "execution_count": null,
   "id": "99bc14f8",
   "metadata": {},
   "outputs": [],
   "source": []
  },
  {
   "cell_type": "code",
   "execution_count": null,
   "id": "95a9769c",
   "metadata": {},
   "outputs": [],
   "source": []
  },
  {
   "cell_type": "code",
   "execution_count": null,
   "id": "ec9f1c3e",
   "metadata": {},
   "outputs": [],
   "source": []
  },
  {
   "cell_type": "code",
   "execution_count": null,
   "id": "375c8f71",
   "metadata": {},
   "outputs": [],
   "source": []
  },
  {
   "cell_type": "code",
   "execution_count": null,
   "id": "4a5e5a38",
   "metadata": {},
   "outputs": [],
   "source": []
  }
 ],
 "metadata": {
  "kernelspec": {
   "display_name": "Python 3 (ipykernel)",
   "language": "python",
   "name": "python3"
  },
  "language_info": {
   "codemirror_mode": {
    "name": "ipython",
    "version": 3
   },
   "file_extension": ".py",
   "mimetype": "text/x-python",
   "name": "python",
   "nbconvert_exporter": "python",
   "pygments_lexer": "ipython3",
   "version": "3.9.12"
  }
 },
 "nbformat": 4,
 "nbformat_minor": 5
}
